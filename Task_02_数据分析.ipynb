{
 "metadata": {
  "language_info": {
   "codemirror_mode": {
    "name": "ipython",
    "version": 3
   },
   "file_extension": ".py",
   "mimetype": "text/x-python",
   "name": "python",
   "nbconvert_exporter": "python",
   "pygments_lexer": "ipython3",
   "version": "3.6.7-final"
  },
  "orig_nbformat": 2,
  "kernelspec": {
   "name": "python_defaultSpec_1600437860858",
   "display_name": "Python 3.6.7 64-bit"
  }
 },
 "nbformat": 4,
 "nbformat_minor": 2,
 "cells": [
  {
   "cell_type": "code",
   "execution_count": 1,
   "metadata": {},
   "outputs": [],
   "source": [
    "#导入数据分析及可视化过程需要的库\n",
    "import pandas as pd\n",
    "import numpy as np\n",
    "import matplotlib.pyplot as plt\n",
    "import seaborn as sns\n",
    "import datetime\n",
    "import warnings\n",
    "warnings.filterwarnings('ignore')"
   ]
  },
  {
   "cell_type": "code",
   "execution_count": 2,
   "metadata": {},
   "outputs": [],
   "source": [
    "#win\n",
    "data_train = pd.read_csv('D:\\DS\\data\\\\train.csv')\n",
    "data_testa = pd.read_csv('D:\\DS\\data\\\\testA.csv')"
   ]
  },
  {
   "cell_type": "code",
   "execution_count": 3,
   "metadata": {
    "tags": []
   },
   "outputs": [],
   "source": [
    "data_train_sample = pd.read_csv(\"D:\\DS\\data\\\\train.csv\",nrows=5)\n",
    "\n",
    "#设置chunkersize参数，来控制每次迭代数据的大小\n",
    "chunker = pd.read_csv(\"D:\\DS\\data\\\\train.csv\",chunksize=5)"
   ]
  },
  {
   "cell_type": "code",
   "execution_count": 4,
   "metadata": {},
   "outputs": [
    {
     "output_type": "execute_result",
     "data": {
      "text/plain": "(200000, 46)"
     },
     "metadata": {},
     "execution_count": 4
    }
   ],
   "source": [
    "#查看数据集的样本个数和原始特征难度\n",
    "data_testa.shape"
   ]
  },
  {
   "cell_type": "code",
   "execution_count": 5,
   "metadata": {},
   "outputs": [
    {
     "output_type": "execute_result",
     "data": {
      "text/plain": "(800000, 47)"
     },
     "metadata": {},
     "execution_count": 5
    }
   ],
   "source": [
    "data_train.shape"
   ]
  },
  {
   "cell_type": "code",
   "execution_count": 6,
   "metadata": {},
   "outputs": [
    {
     "output_type": "execute_result",
     "data": {
      "text/plain": "Index(['id', 'loanAmnt', 'term', 'interestRate', 'installment', 'grade',\n       'subGrade', 'employmentTitle', 'employmentLength', 'homeOwnership',\n       'annualIncome', 'verificationStatus', 'issueDate', 'isDefault',\n       'purpose', 'postCode', 'regionCode', 'dti', 'delinquency_2years',\n       'ficoRangeLow', 'ficoRangeHigh', 'openAcc', 'pubRec',\n       'pubRecBankruptcies', 'revolBal', 'revolUtil', 'totalAcc',\n       'initialListStatus', 'applicationType', 'earliesCreditLine', 'title',\n       'policyCode', 'n0', 'n1', 'n2', 'n3', 'n4', 'n5', 'n6', 'n7', 'n8',\n       'n9', 'n10', 'n11', 'n12', 'n13', 'n14'],\n      dtype='object')"
     },
     "metadata": {},
     "execution_count": 6
    }
   ],
   "source": [
    "data_train.columns"
   ]
  },
  {
   "source": [
    "特征表 特征工程\n",
    "\n",
    "- id\t为贷款清单分配的唯一信用证标识\n",
    "- loanAmnt\t贷款金额\n",
    "- term\t贷款期限（year）\n",
    "- interestRate\t贷款利率\n",
    "- installment\t分期付款金额\n",
    "- grade\t贷款等级\n",
    "- subGrade\t贷款等级之子级\n",
    "- employmentTitle\t就业职称\n",
    "- employmentLength\t就业年限（年）\n",
    "- homeOwnership\t借款人在登记时提供的房屋所有权状况\n",
    "- annualIncome\t年收入\n",
    "- verificationStatus\t验证状态\n",
    "- issueDate\t贷款发放的月份\n",
    "- purpose\t借款人在贷款申请时的贷款用途类别\n",
    "- postCode\t借款人在贷款申请中提供的邮政编码的前3位数字\n",
    "- regionCode\t地区编码\n",
    "- dti\t债务收入比\n",
    "- delinquency_2years\t借款人过去2年信用档案中逾期30天以上的违约事件数\n",
    "- ficoRangeLow\t借款人在贷款发放时的fico所属的下限范围\n",
    "- ficoRangeHigh\t借款人在贷款发放时的fico所属的上限范围\n",
    "- openAcc\t借款人信用档案中未结信用额度的数量\n",
    "- pubRec\t贬损公共记录的数量\n",
    "- pubRecBankruptcies\t公开记录清除的数量\n",
    "- revolBal\t信贷周转余额合计\n",
    "- revolUtil\t循环额度利用率，或借款人使用的相对于所有可用循环信贷的信贷金额\n",
    "- totalAcc\t借款人信用档案中当前的信用额度总数\n",
    "- initialListStatus\t贷款的初始列表状态\n",
    "- applicationType\t表明贷款是个人申请还是与两个共同借款人的联合申请\n",
    "- earliesCreditLine\t借款人最早报告的信用额度开立的月份\n",
    "- title\t借款人提供的贷款名称\n",
    "- policyCode\t公开可用的策略_代码=1新产品不公开可用的策略_代码=2\n",
    "- n系列匿名特征\t匿名特征n0-n14，为一些贷款人行为计数特征的处理"
   ],
   "cell_type": "markdown",
   "metadata": {}
  },
  {
   "cell_type": "code",
   "execution_count": 7,
   "metadata": {
    "tags": []
   },
   "outputs": [
    {
     "output_type": "stream",
     "name": "stdout",
     "text": "<class 'pandas.core.frame.DataFrame'>\nRangeIndex: 800000 entries, 0 to 799999\nData columns (total 47 columns):\n #   Column              Non-Null Count   Dtype  \n---  ------              --------------   -----  \n 0   id                  800000 non-null  int64  \n 1   loanAmnt            800000 non-null  float64\n 2   term                800000 non-null  int64  \n 3   interestRate        800000 non-null  float64\n 4   installment         800000 non-null  float64\n 5   grade               800000 non-null  object \n 6   subGrade            800000 non-null  object \n 7   employmentTitle     799999 non-null  float64\n 8   employmentLength    753201 non-null  object \n 9   homeOwnership       800000 non-null  int64  \n 10  annualIncome        800000 non-null  float64\n 11  verificationStatus  800000 non-null  int64  \n 12  issueDate           800000 non-null  object \n 13  isDefault           800000 non-null  int64  \n 14  purpose             800000 non-null  int64  \n 15  postCode            799999 non-null  float64\n 16  regionCode          800000 non-null  int64  \n 17  dti                 799761 non-null  float64\n 18  delinquency_2years  800000 non-null  float64\n 19  ficoRangeLow        800000 non-null  float64\n 20  ficoRangeHigh       800000 non-null  float64\n 21  openAcc             800000 non-null  float64\n 22  pubRec              800000 non-null  float64\n 23  pubRecBankruptcies  799595 non-null  float64\n 24  revolBal            800000 non-null  float64\n 25  revolUtil           799469 non-null  float64\n 26  totalAcc            800000 non-null  float64\n 27  initialListStatus   800000 non-null  int64  \n 28  applicationType     800000 non-null  int64  \n 29  earliesCreditLine   800000 non-null  object \n 30  title               799999 non-null  float64\n 31  policyCode          800000 non-null  float64\n 32  n0                  759730 non-null  float64\n 33  n1                  759730 non-null  float64\n 34  n2                  759730 non-null  float64\n 35  n3                  759730 non-null  float64\n 36  n4                  766761 non-null  float64\n 37  n5                  759730 non-null  float64\n 38  n6                  759730 non-null  float64\n 39  n7                  759730 non-null  float64\n 40  n8                  759729 non-null  float64\n 41  n9                  759730 non-null  float64\n 42  n10                 766761 non-null  float64\n 43  n11                 730248 non-null  float64\n 44  n12                 759730 non-null  float64\n 45  n13                 759730 non-null  float64\n 46  n14                 759730 non-null  float64\ndtypes: float64(33), int64(9), object(5)\nmemory usage: 286.9+ MB\n"
    }
   ],
   "source": [
    "#通过info熟悉数据模型\n",
    "data_train.info()"
   ]
  },
  {
   "cell_type": "code",
   "execution_count": 8,
   "metadata": {},
   "outputs": [
    {
     "output_type": "execute_result",
     "data": {
      "text/plain": "                  id       loanAmnt           term   interestRate  \\\ncount  800000.000000  800000.000000  800000.000000  800000.000000   \nmean   399999.500000   14416.818875       3.482745      13.238391   \nstd    230940.252013    8716.086178       0.855832       4.765757   \nmin         0.000000     500.000000       3.000000       5.310000   \n25%    199999.750000    8000.000000       3.000000       9.750000   \n50%    399999.500000   12000.000000       3.000000      12.740000   \n75%    599999.250000   20000.000000       3.000000      15.990000   \nmax    799999.000000   40000.000000       5.000000      30.990000   \n\n         installment  employmentTitle  homeOwnership  annualIncome  \\\ncount  800000.000000    799999.000000  800000.000000  8.000000e+05   \nmean      437.947723     72005.351714       0.614213  7.613391e+04   \nstd       261.460393    106585.640204       0.675749  6.894751e+04   \nmin        15.690000         0.000000       0.000000  0.000000e+00   \n25%       248.450000       427.000000       0.000000  4.560000e+04   \n50%       375.135000      7755.000000       1.000000  6.500000e+04   \n75%       580.710000    117663.500000       1.000000  9.000000e+04   \nmax      1715.420000    378351.000000       5.000000  1.099920e+07   \n\n       verificationStatus      isDefault  ...             n5             n6  \\\ncount       800000.000000  800000.000000  ...  759730.000000  759730.000000   \nmean             1.009683       0.199513  ...       8.107937       8.575994   \nstd              0.782716       0.399634  ...       4.799210       7.400536   \nmin              0.000000       0.000000  ...       0.000000       0.000000   \n25%              0.000000       0.000000  ...       5.000000       4.000000   \n50%              1.000000       0.000000  ...       7.000000       7.000000   \n75%              2.000000       0.000000  ...      11.000000      11.000000   \nmax              2.000000       1.000000  ...      70.000000     132.000000   \n\n                  n7             n8             n9            n10  \\\ncount  759730.000000  759729.000000  759730.000000  766761.000000   \nmean        8.282953      14.622488       5.592345      11.643896   \nstd         4.561689       8.124610       3.216184       5.484104   \nmin         0.000000       1.000000       0.000000       0.000000   \n25%         5.000000       9.000000       3.000000       8.000000   \n50%         7.000000      13.000000       5.000000      11.000000   \n75%        10.000000      19.000000       7.000000      14.000000   \nmax        79.000000     128.000000      45.000000      82.000000   \n\n                 n11            n12            n13            n14  \ncount  730248.000000  759730.000000  759730.000000  759730.000000  \nmean        0.000815       0.003384       0.089366       2.178606  \nstd         0.030075       0.062041       0.509069       1.844377  \nmin         0.000000       0.000000       0.000000       0.000000  \n25%         0.000000       0.000000       0.000000       1.000000  \n50%         0.000000       0.000000       0.000000       2.000000  \n75%         0.000000       0.000000       0.000000       3.000000  \nmax         4.000000       4.000000      39.000000      30.000000  \n\n[8 rows x 42 columns]",
      "text/html": "<div>\n<style scoped>\n    .dataframe tbody tr th:only-of-type {\n        vertical-align: middle;\n    }\n\n    .dataframe tbody tr th {\n        vertical-align: top;\n    }\n\n    .dataframe thead th {\n        text-align: right;\n    }\n</style>\n<table border=\"1\" class=\"dataframe\">\n  <thead>\n    <tr style=\"text-align: right;\">\n      <th></th>\n      <th>id</th>\n      <th>loanAmnt</th>\n      <th>term</th>\n      <th>interestRate</th>\n      <th>installment</th>\n      <th>employmentTitle</th>\n      <th>homeOwnership</th>\n      <th>annualIncome</th>\n      <th>verificationStatus</th>\n      <th>isDefault</th>\n      <th>...</th>\n      <th>n5</th>\n      <th>n6</th>\n      <th>n7</th>\n      <th>n8</th>\n      <th>n9</th>\n      <th>n10</th>\n      <th>n11</th>\n      <th>n12</th>\n      <th>n13</th>\n      <th>n14</th>\n    </tr>\n  </thead>\n  <tbody>\n    <tr>\n      <th>count</th>\n      <td>800000.000000</td>\n      <td>800000.000000</td>\n      <td>800000.000000</td>\n      <td>800000.000000</td>\n      <td>800000.000000</td>\n      <td>799999.000000</td>\n      <td>800000.000000</td>\n      <td>8.000000e+05</td>\n      <td>800000.000000</td>\n      <td>800000.000000</td>\n      <td>...</td>\n      <td>759730.000000</td>\n      <td>759730.000000</td>\n      <td>759730.000000</td>\n      <td>759729.000000</td>\n      <td>759730.000000</td>\n      <td>766761.000000</td>\n      <td>730248.000000</td>\n      <td>759730.000000</td>\n      <td>759730.000000</td>\n      <td>759730.000000</td>\n    </tr>\n    <tr>\n      <th>mean</th>\n      <td>399999.500000</td>\n      <td>14416.818875</td>\n      <td>3.482745</td>\n      <td>13.238391</td>\n      <td>437.947723</td>\n      <td>72005.351714</td>\n      <td>0.614213</td>\n      <td>7.613391e+04</td>\n      <td>1.009683</td>\n      <td>0.199513</td>\n      <td>...</td>\n      <td>8.107937</td>\n      <td>8.575994</td>\n      <td>8.282953</td>\n      <td>14.622488</td>\n      <td>5.592345</td>\n      <td>11.643896</td>\n      <td>0.000815</td>\n      <td>0.003384</td>\n      <td>0.089366</td>\n      <td>2.178606</td>\n    </tr>\n    <tr>\n      <th>std</th>\n      <td>230940.252013</td>\n      <td>8716.086178</td>\n      <td>0.855832</td>\n      <td>4.765757</td>\n      <td>261.460393</td>\n      <td>106585.640204</td>\n      <td>0.675749</td>\n      <td>6.894751e+04</td>\n      <td>0.782716</td>\n      <td>0.399634</td>\n      <td>...</td>\n      <td>4.799210</td>\n      <td>7.400536</td>\n      <td>4.561689</td>\n      <td>8.124610</td>\n      <td>3.216184</td>\n      <td>5.484104</td>\n      <td>0.030075</td>\n      <td>0.062041</td>\n      <td>0.509069</td>\n      <td>1.844377</td>\n    </tr>\n    <tr>\n      <th>min</th>\n      <td>0.000000</td>\n      <td>500.000000</td>\n      <td>3.000000</td>\n      <td>5.310000</td>\n      <td>15.690000</td>\n      <td>0.000000</td>\n      <td>0.000000</td>\n      <td>0.000000e+00</td>\n      <td>0.000000</td>\n      <td>0.000000</td>\n      <td>...</td>\n      <td>0.000000</td>\n      <td>0.000000</td>\n      <td>0.000000</td>\n      <td>1.000000</td>\n      <td>0.000000</td>\n      <td>0.000000</td>\n      <td>0.000000</td>\n      <td>0.000000</td>\n      <td>0.000000</td>\n      <td>0.000000</td>\n    </tr>\n    <tr>\n      <th>25%</th>\n      <td>199999.750000</td>\n      <td>8000.000000</td>\n      <td>3.000000</td>\n      <td>9.750000</td>\n      <td>248.450000</td>\n      <td>427.000000</td>\n      <td>0.000000</td>\n      <td>4.560000e+04</td>\n      <td>0.000000</td>\n      <td>0.000000</td>\n      <td>...</td>\n      <td>5.000000</td>\n      <td>4.000000</td>\n      <td>5.000000</td>\n      <td>9.000000</td>\n      <td>3.000000</td>\n      <td>8.000000</td>\n      <td>0.000000</td>\n      <td>0.000000</td>\n      <td>0.000000</td>\n      <td>1.000000</td>\n    </tr>\n    <tr>\n      <th>50%</th>\n      <td>399999.500000</td>\n      <td>12000.000000</td>\n      <td>3.000000</td>\n      <td>12.740000</td>\n      <td>375.135000</td>\n      <td>7755.000000</td>\n      <td>1.000000</td>\n      <td>6.500000e+04</td>\n      <td>1.000000</td>\n      <td>0.000000</td>\n      <td>...</td>\n      <td>7.000000</td>\n      <td>7.000000</td>\n      <td>7.000000</td>\n      <td>13.000000</td>\n      <td>5.000000</td>\n      <td>11.000000</td>\n      <td>0.000000</td>\n      <td>0.000000</td>\n      <td>0.000000</td>\n      <td>2.000000</td>\n    </tr>\n    <tr>\n      <th>75%</th>\n      <td>599999.250000</td>\n      <td>20000.000000</td>\n      <td>3.000000</td>\n      <td>15.990000</td>\n      <td>580.710000</td>\n      <td>117663.500000</td>\n      <td>1.000000</td>\n      <td>9.000000e+04</td>\n      <td>2.000000</td>\n      <td>0.000000</td>\n      <td>...</td>\n      <td>11.000000</td>\n      <td>11.000000</td>\n      <td>10.000000</td>\n      <td>19.000000</td>\n      <td>7.000000</td>\n      <td>14.000000</td>\n      <td>0.000000</td>\n      <td>0.000000</td>\n      <td>0.000000</td>\n      <td>3.000000</td>\n    </tr>\n    <tr>\n      <th>max</th>\n      <td>799999.000000</td>\n      <td>40000.000000</td>\n      <td>5.000000</td>\n      <td>30.990000</td>\n      <td>1715.420000</td>\n      <td>378351.000000</td>\n      <td>5.000000</td>\n      <td>1.099920e+07</td>\n      <td>2.000000</td>\n      <td>1.000000</td>\n      <td>...</td>\n      <td>70.000000</td>\n      <td>132.000000</td>\n      <td>79.000000</td>\n      <td>128.000000</td>\n      <td>45.000000</td>\n      <td>82.000000</td>\n      <td>4.000000</td>\n      <td>4.000000</td>\n      <td>39.000000</td>\n      <td>30.000000</td>\n    </tr>\n  </tbody>\n</table>\n<p>8 rows × 42 columns</p>\n</div>"
     },
     "metadata": {},
     "execution_count": 8
    }
   ],
   "source": [
    "#总体粗略的查看数据集各个特征的一些基本统计量\n",
    "data_train.describe()"
   ]
  },
  {
   "cell_type": "code",
   "execution_count": null,
   "metadata": {},
   "outputs": [],
   "source": []
  }
 ]
}