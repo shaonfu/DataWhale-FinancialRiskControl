{
 "metadata": {
  "language_info": {
   "codemirror_mode": {
    "name": "ipython",
    "version": 3
   },
   "file_extension": ".py",
   "mimetype": "text/x-python",
   "name": "python",
   "nbconvert_exporter": "python",
   "pygments_lexer": "ipython3",
   "version": "3.7.4-final"
  },
  "orig_nbformat": 2,
  "kernelspec": {
   "name": "Python 3.7.4 64-bit ('tf2.0')",
   "display_name": "Python 3.7.4 64-bit ('tf2.0')",
   "metadata": {
    "interpreter": {
     "hash": "4c189dea772f58598b57832d8b181ba33928e5f7f91aa28f29180a7d5b3bd8ad"
    }
   }
  }
 },
 "nbformat": 4,
 "nbformat_minor": 2,
 "cells": [
  {
   "source": [
    "# 建模调参\n",
    "## 4.1 学习目标\n",
    "\n",
    "- 学习在金融分控领域常用的机器学习模型\n",
    "- 学习机器学习模型的建模过程与调参流程\n",
    "- 完成相应学习打卡任务 \n",
    "\n",
    "\n",
    "\n",
    "## 4.2 内容介绍\n",
    "\n",
    "- 逻辑回归模型：\n",
    "\n",
    "  - 理解逻辑回归模型；\n",
    "  - 逻辑回归模型的应用；\n",
    "  - 逻辑回归的优缺点；\n",
    "\n",
    "- 树模型：\n",
    "\n",
    "  - 理解树模型；\n",
    "  - 树模型的应用；\n",
    "  - 树模型的优缺点；\n",
    "\n",
    "- 集成模型\n",
    "\n",
    "  - 基于bagging思想的集成模型\n",
    "    - 随机森林模型\n",
    "  - 基于boosting思想的集成模型\n",
    "    - XGBoost模型\n",
    "    - LightGBM模型\n",
    "    - CatBoost模型\n",
    "\n",
    "- 模型对比与性能评估：\n",
    "\n",
    "  - 回归模型/树模型/集成模型；\n",
    "  - 模型评估方法；\n",
    "  - 模型评价结果；\n",
    "\n",
    "- 模型调参：\n",
    "\n",
    "  - 贪心调参方法；\n",
    "\n",
    "  - 网格调参方法；\n",
    "\n",
    "  - 贝叶斯调参方法"
   ],
   "cell_type": "markdown",
   "metadata": {}
  },
  {
   "cell_type": "code",
   "execution_count": 1,
   "metadata": {
    "tags": []
   },
   "outputs": [
    {
     "output_type": "stream",
     "name": "stderr",
     "text": "Illegal line #1\n\t\"{\\rtf1\\ansi\\ansicpg936\\cocoartf1671\\cocoasubrtf200\n\"\n\tin file \"/Users/ousei/.matplotlib/matplotlibrc\"\nIllegal line #2\n\t\"{\\fonttbl\\f0\\fnil\\fcharset0 Menlo-Regular;}\n\"\n\tin file \"/Users/ousei/.matplotlib/matplotlibrc\"\nIllegal line #3\n\t\"{\\colortbl;\\red255\\green255\\blue255;\\red0\\green0\\blue0;\\red255\\green255\\blue255;}\n\"\n\tin file \"/Users/ousei/.matplotlib/matplotlibrc\"\nIllegal line #4\n\t\"{\\*\\expandedcolortbl;;\\cssrgb\\c0\\c0\\c0;\\cssrgb\\c100000\\c100000\\c100000;}\n\"\n\tin file \"/Users/ousei/.matplotlib/matplotlibrc\"\nIllegal line #5\n\t\"\\paperw11900\\paperh16840\\margl1440\\margr1440\\vieww10800\\viewh8400\\viewkind0\n\"\n\tin file \"/Users/ousei/.matplotlib/matplotlibrc\"\nIllegal line #6\n\t\"\\deftab720\n\"\n\tin file \"/Users/ousei/.matplotlib/matplotlibrc\"\nIllegal line #7\n\t\"\\pard\\pardeftab720\\sl260\\partightenfactor0\n\"\n\tin file \"/Users/ousei/.matplotlib/matplotlibrc\"\nIllegal line #9\n\t\"\\f0\\fs22 \\cf2 \\cb3 \\expnd0\\expndtw0\\kerning0\n\"\n\tin file \"/Users/ousei/.matplotlib/matplotlibrc\"\n\nBad key \"\\outl0\\strokewidth0 \\strokec2 backend\" on line 10 in\n/Users/ousei/.matplotlib/matplotlibrc.\nYou probably need to get an updated matplotlibrc file from\nhttp://github.com/matplotlib/matplotlib/blob/master/matplotlibrc.template\nor from the matplotlib source distribution\n"
    }
   ],
   "source": [
    "import pandas as pd\n",
    "import numpy as np\n",
    "import warnings\n",
    "import os\n",
    "import seaborn as sns\n",
    "import matplotlib.pyplot as plt"
   ]
  },
  {
   "cell_type": "code",
   "execution_count": 2,
   "metadata": {},
   "outputs": [],
   "source": [
    "\"\"\"\n",
    "sns 相关设置\n",
    "@return:\n",
    "\"\"\"\n",
    "# 声明使用 Seaborn 样式\n",
    "sns.set()\n",
    "# 有五种seaborn的绘图风格，它们分别是：darkgrid, whitegrid, dark, white, ticks。默认的主题是darkgrid。\n",
    "sns.set_style(\"whitegrid\")\n",
    "# 有四个预置的环境，按大小从小到大排列分别为：paper, notebook, talk, poster。其中，notebook是默认的。\n",
    "sns.set_context('talk')\n",
    "# 中文字体设置-黑体\n",
    "plt.rcParams['font.sans-serif'] = ['SimHei']\n",
    "# 解决保存图像是负号'-'显示为方块的问题\n",
    "plt.rcParams['axes.unicode_minus'] = False\n",
    "# 解决Seaborn中文显示问题并调整字体大小\n",
    "sns.set(font='SimHei')"
   ]
  },
  {
   "cell_type": "code",
   "execution_count": null,
   "metadata": {},
   "outputs": [],
   "source": [
    "#reduce_mem_usage函数通过调整数据类型,帮助减少数据在内存中占用的空间\n",
    "def reduce_mem_usage(df):\n",
    "    start_men = df.memory_usage().sum()\n",
    "    print('Memory usage of dataframe is {:.2f}MB'.format(start_men))\n",
    "\n",
    "    for col in df.columns:\n",
    "        col_type = df[col].dtype\n",
    "        \n",
    "        if col_type != object:\n",
    "            c_min = df[col].min()\n",
    "            c_max = df[col].max()\n",
    "            if str(col_type)[:3] == 'int':\n",
    "                if c_min > np.iinfo(np.int8).min and c_max < np.iinfo(np.int8).max:\n",
    "                    df[col] = df[col].astype(np.int8)\n",
    "                elif c_min > np.iinfo(np.int16).min and c_max < np.iinfo(np.int16).max:\n",
    "                    df[col] = df[col].astype(np.int16)\n",
    "                elif c_min > np.iinfo(np.int32).min and c_max < np.iinfo(np.int32).max:\n",
    "                    df[col] = df[col].astype(np.int32)\n",
    "                elif c_min > np.iinfo(np.int64).min and c_max < np.iinfo(np.int64).max:\n",
    "                    df[col] = df[col].astype(np.int64)  \n",
    "            else:\n",
    "                if c_min > np.finfo(np.float16).min and c_max < np.finfo(np.float16).max:\n",
    "                    df[col] = df[col].astype(np.float16)\n",
    "                elif c_min > np.finfo(np.float32).min and c_max < np.finfo(np.float32).max:\n",
    "                    df[col] = df[col].astype(np.float32)\n",
    "                else:\n",
    "                    df[col] = df[col].astype(np.float64)\n",
    "        else:\n",
    "            df[col] = df[col].astype('category')\n",
    "\n",
    "    end_mem = df.memory_usage().sum() \n",
    "    print('Memory usage after optimization is: {:.2f} MB'.format(end_mem))\n",
    "    print('Decreased by {:.1f}%'.format(100 * (start_mem - end_mem) / start_mem))\n",
    "    \n",
    "    return df"
   ]
  },
  {
   "cell_type": "code",
   "execution_count": null,
   "metadata": {},
   "outputs": [],
   "source": [
    "data = pd.read_csv('dataset/data_for_model.csv')\n",
    "data = reduce_mem_usage(data)"
   ]
  },
  {
   "cell_type": "code",
   "execution_count": null,
   "metadata": {},
   "outputs": [],
   "source": []
  }
 ]
}