{
 "metadata": {
  "language_info": {
   "codemirror_mode": {
    "name": "ipython",
    "version": 3
   },
   "file_extension": ".py",
   "mimetype": "text/x-python",
   "name": "python",
   "nbconvert_exporter": "python",
   "pygments_lexer": "ipython3",
   "version": "3.6.7-final"
  },
  "orig_nbformat": 2,
  "kernelspec": {
   "name": "python_defaultSpec_1600871661653",
   "display_name": "Python 3.6.7 64-bit"
  }
 },
 "nbformat": 4,
 "nbformat_minor": 2,
 "cells": [
  {
   "source": [
    "## Task3 特征工程\n",
    "\n",
    "- 学习特征预处理、缺失值、异常值处理、数据分桶等特征处理方法\n",
    "- 学习特征交互、编码、选择的相应方法\n",
    "\n",
    "\n",
    "- 数据预处理\n",
    "  - 缺失值的填充\n",
    "  - 时间格式处理\n",
    "  - 对象类型特征转换到数值\n",
    "- 异常值处理\n",
    "  - 基于3segama原则\n",
    "  - 基于箱型图\n",
    "- 数据分箱\n",
    "  - 固定宽度分箱\n",
    "  - 分位数分箱\n",
    "    - 离散数值型数据分箱\n",
    "    - 连续数值型数据分箱\n",
    "  - 卡方分箱（选做作业）\n",
    "- 特征交互\n",
    "  - 特征和特征之间组合\n",
    "  - 特征和特征之间衍生\n",
    "  - 其他特征衍生的尝试（选做作业）\n",
    "- 特征编码\n",
    "  - one-hot编码\n",
    "  - label-encode编码\n",
    "- 特征选择\n",
    "    - 1 Filter\n",
    "    - 2 Wrapper （RFE）\n",
    "    - 3 Embedded"
   ],
   "cell_type": "markdown",
   "metadata": {}
  },
  {
   "cell_type": "code",
   "execution_count": 5,
   "metadata": {},
   "outputs": [],
   "source": [
    "import pandas as pd\n",
    "import numpy as np\n",
    "import matplotlib.pyplot as plt\n",
    "import seaborn as sns\n",
    "import datetime\n",
    "from tqdm import tqdm\n",
    "from sklearn.preprocessing import LabelEncoder\n",
    "from sklearn.feature_selection import SelectKBest\n",
    "from sklearn.feature_selection import chi2\n",
    "from sklearn.preprocessing import MinMaxScaler\n",
    "import xgboost as xgb\n",
    "import lightgbm as lgb\n",
    "from catboost import CatBoostRegressor\n",
    "import warnings\n",
    "from sklearn.model_selection import StratifiedKFold, KFold\n",
    "from sklearn.metrics import accuracy_score, f1_score, roc_auc_score, log_loss\n",
    "warnings.filterwarnings('ignore')"
   ]
  },
  {
   "cell_type": "code",
   "execution_count": 6,
   "metadata": {},
   "outputs": [],
   "source": [
    "data_train = pd.read_csv('D:\\DS\\data\\\\train.csv')\n",
    "data_testa = pd.read_csv('D:\\DS\\data\\\\testA.csv')"
   ]
  },
  {
   "source": [],
   "cell_type": "markdown",
   "metadata": {}
  }
 ]
}